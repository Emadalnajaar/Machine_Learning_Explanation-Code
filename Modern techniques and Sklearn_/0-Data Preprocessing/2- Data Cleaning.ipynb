{
 "cells": [
  {
   "cell_type": "markdown",
   "metadata": {},
   "source": [
    "# Data Cleaing"
   ]
  },
  {
   "cell_type": "code",
   "execution_count": null,
   "metadata": {},
   "outputs": [],
   "source": [
    "from sklearn.impute import SimpleImputer\n",
    "import numpy as np\n"
   ]
  },
  {
   "cell_type": "code",
   "execution_count": 11,
   "metadata": {},
   "outputs": [
    {
     "name": "stdout",
     "output_type": "stream",
     "text": [
      "[[1.   2.   3.  ]\n",
      " [3.   2.75 1.  ]\n",
      " [0.   2.75 0.  ]\n",
      " [2.6  4.   6.  ]\n",
      " [5.   0.   3.  ]\n",
      " [4.   5.   5.  ]]\n",
      "\n",
      "[[1.   2.   3.  ]\n",
      " [3.   2.75 1.  ]\n",
      " [3.   2.75 3.  ]\n",
      " [2.6  4.   6.  ]\n",
      " [5.   2.75 3.  ]\n",
      " [4.   5.   5.  ]]\n"
     ]
    }
   ],
   "source": [
    "'''\n",
    "SimpleImputer for cleaning data\n",
    "impute.SimpleImputer(missing_values=nan, strategy='mean’, fill_value=None, verbose=0, copy=True)\n",
    "missing_values ==> nan, 0, anything else\n",
    "strategy ==> mean, median, most_frequent = mood , most_frequent , constant\n",
    "'''\n",
    "\n",
    "data = [[1,2,np.nan],\n",
    "        [3,np.nan,1],\n",
    "        [0,np.nan,0],\n",
    "        [np.nan,4,6 ],\n",
    "        [5,0,np.nan],\n",
    "        [4,5,5]]\n",
    "\n",
    "impute_module = SimpleImputer(missing_values=np.NaN, strategy='mean')\n",
    "data = impute_module.fit_transform(data)\n",
    "print(data)\n",
    "print()\n",
    "impute_module = SimpleImputer(missing_values=0, strategy='median')\n",
    "data = impute_module.fit_transform(data)\n",
    "print(data)"
   ]
  },
  {
   "cell_type": "markdown",
   "metadata": {},
   "source": []
  },
  {
   "cell_type": "code",
   "execution_count": null,
   "metadata": {},
   "outputs": [],
   "source": []
  },
  {
   "cell_type": "code",
   "execution_count": null,
   "metadata": {},
   "outputs": [],
   "source": []
  },
  {
   "cell_type": "code",
   "execution_count": null,
   "metadata": {},
   "outputs": [],
   "source": []
  }
 ],
 "metadata": {
  "kernelspec": {
   "display_name": "newEnv",
   "language": "python",
   "name": "newenv"
  },
  "language_info": {
   "codemirror_mode": {
    "name": "ipython",
    "version": 3
   },
   "file_extension": ".py",
   "mimetype": "text/x-python",
   "name": "python",
   "nbconvert_exporter": "python",
   "pygments_lexer": "ipython3",
   "version": "3.7.1"
  }
 },
 "nbformat": 4,
 "nbformat_minor": 2
}

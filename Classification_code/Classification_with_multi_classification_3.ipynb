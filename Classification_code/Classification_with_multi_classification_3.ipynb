{
 "cells": [
  {
   "cell_type": "code",
   "execution_count": 70,
   "metadata": {},
   "outputs": [],
   "source": [
    "# import numpy as np\n",
    "# from scipy.io import loadmat\n",
    "\n",
    "\n",
    "# data = loadmat('D:\\\\z\\\\1\\\\ex3data1.mat')\n",
    "\n",
    "# print(data) \n",
    "# print(data['X']) \n",
    "# print(data['y'])\n",
    "# print('X Shape = ' ,  data['X'].shape) \n",
    "# print('Y Shape = ', data['y'].shape)\n",
    "\n",
    "# print(data['X'][0]) \n",
    "# print(data['X'][0][155]) \n",
    "# print('===================================================')\n",
    "\n",
    "\n",
    "\n",
    "\n",
    "\n",
    "# def sigmoid(z):\n",
    "#     return 1 / (1 + np.exp(-z))\n",
    "\n",
    "# def cost(theta, X, y, learningRate):\n",
    "#     theta = np.matrix(theta)\n",
    "#     X = np.matrix(X)\n",
    "#     y = np.matrix(y)\n",
    "#     first = np.multiply(-y, np.log(sigmoid(X * theta.T)))\n",
    "#     second = np.multiply((1 - y), np.log(1 - sigmoid(X * theta.T)))\n",
    "#     reg = (learningRate / 2 * len(X)) * np.sum(np.power(theta[:,1:theta.shape[1]], 2))\n",
    "#     return np.sum(first - second) / (len(X)) + reg\n",
    "\n",
    "\n",
    "# def gradient_with_loop(theta, X, y, learningRate):\n",
    "#     theta = np.matrix(theta)\n",
    "#     X = np.matrix(X)\n",
    "#     y = np.matrix(y)\n",
    "    \n",
    "#     parameters = int(theta.ravel().shape[1])\n",
    "#     grad = np.zeros(parameters)\n",
    "    \n",
    "#     error = sigmoid(X * theta.T) - y\n",
    "    \n",
    "#     for i in range(parameters):\n",
    "#         term = np.multiply(error, X[:,i])\n",
    "        \n",
    "#         if (i == 0):\n",
    "#             grad[i] = np.sum(term) / len(X)\n",
    "#         else:\n",
    "#             grad[i] = (np.sum(term) / len(X)) + ((learningRate / len(X)) * theta[:,i])\n",
    "    \n",
    "#     return grad\n",
    "\n",
    "# def gradient(theta, X, y, learningRate):\n",
    "#     theta = np.matrix(theta)\n",
    "#     X = np.matrix(X)\n",
    "#     y = np.matrix(y)\n",
    "    \n",
    "#     parameters = int(theta.ravel().shape[1])\n",
    "#     error = sigmoid(X * theta.T) - y\n",
    "    \n",
    "#     grad = ((X.T * error) / len(X)).T + ((learningRate / len(X)) * theta)\n",
    "    \n",
    "#     # intercept gradient is not regularized\n",
    "#     grad[0, 0] = np.sum(np.multiply(error, X[:,0])) / len(X)\n",
    "    \n",
    "#     return np.array(grad).ravel()\n",
    "\n",
    "# from scipy.optimize import minimize\n",
    "\n",
    "# def one_vs_all(X, y, num_labels, learning_rate):\n",
    "#     rows = X.shape[0] #5000\n",
    "#     params = X.shape[1] #400\n",
    "    \n",
    "#     # k X (n + 1) array for the parameters of each of the k classifiers\n",
    "#     all_theta = np.zeros((num_labels, params + 1))\n",
    "    \n",
    "#     print('all_theta shape ' , all_theta.shape)\n",
    "#     # insert a column of ones at the beginning for the intercept term\n",
    "#     X = np.insert(X, 0, values=np.ones(rows), axis=1)\n",
    "#     print('X shape ' , X.shape)\n",
    "    \n",
    "#     # labels are 1-indexed instead of 0-indexed\n",
    "#     for i in range(1, num_labels + 1):\n",
    "#         theta = np.zeros(params + 1)\n",
    "#         y_i = np.array([1 if label == i else 0 for label in y])\n",
    "#         y_i = np.reshape(y_i, (rows, 1))\n",
    "        \n",
    "#         # minimize the objective function\n",
    "#         fmin = minimize(fun=cost, x0=theta, args=(X, y_i, learning_rate), method='TNC', jac=gradient)\n",
    "#         all_theta[i-1,:] = fmin.x\n",
    "    \n",
    "#     return all_theta\n",
    "\n",
    "\n",
    "\n",
    "# rows = data['X'].shape[0]\n",
    "# params = data['X'].shape[1]\n",
    "\n",
    "# print('rows = ' ,rows)\n",
    "# print('params = ' , params)\n",
    "\n",
    "# print('===================================================')\n",
    "\n",
    "\n",
    "# all_theta = np.zeros((10, params + 1))\n",
    "\n",
    "# print('all_theta \\n' , all_theta)\n",
    "# print('all_theta shape \\n' , all_theta.shape)\n",
    "\n",
    "# print('===================================================')\n",
    "\n",
    "\n",
    "# X = np.insert(data['X'], 0, values=np.ones(rows), axis=1)\n",
    "\n",
    "\n",
    "# print(X) \n",
    "# print('X Shape = ' ,  X.shape) \n",
    "\n",
    "# print('===================================================')\n",
    "\n",
    "# theta = np.zeros(params + 1)\n",
    "\n",
    "# print('theta \\n' , theta ) \n",
    "\n",
    "# print('===================================================')\n",
    "\n",
    "\n",
    "# y_0 = np.array([1 if label == 0 else 0 for label in data['y']])\n",
    "\n",
    "# print('y_0')\n",
    "# print(y_0.shape)\n",
    "# print(y_0)\n",
    "\n",
    "# print('===================================================')\n",
    "\n",
    "# y_0 = np.reshape(y_0, (rows, 1))\n",
    "\n",
    "\n",
    "# print('y_0')\n",
    "# print(y_0.shape)\n",
    "# print(y_0)\n",
    "\n",
    "# print('===================================================')\n",
    "\n",
    "# print()\n",
    "# print('X.shape = ',X.shape)\n",
    "# print()\n",
    "# print('y.shape = ',y_0.shape)\n",
    "# print()\n",
    "# print('theta.shape = ',theta.shape)\n",
    "# print()\n",
    "# print('all_theta.shape = ',all_theta.shape)\n",
    "\n",
    "# print()\n",
    "# print('data array = ' , np.unique(data['y']))\n",
    "\n",
    "# print()\n",
    "\n",
    "\n",
    "\n",
    "\n",
    "# all_theta = one_vs_all(data['X'], data['y'], 1, 1)\n",
    "\n",
    "# print('Theta shape =   ' , all_theta.shape)\n",
    "# print('Theta = ')\n",
    "# print(all_theta)\n",
    "\n",
    "\n",
    "\n",
    "# def predict_all(X, all_theta):\n",
    "#     rows = X.shape[0]\n",
    "#     params = X.shape[1]\n",
    "#     num_labels = all_theta.shape[0]\n",
    "    \n",
    "#     # same as before, insert ones to match the shape\n",
    "#     X = np.insert(X, 0, values=np.ones(rows), axis=1)\n",
    "    \n",
    "#     # convert to matrices\n",
    "#     X = np.matrix(X)\n",
    "#     all_theta = np.matrix(all_theta)\n",
    "    \n",
    "#     # compute the class probability for each class on each training instance\n",
    "#     h = sigmoid(X * all_theta.T)\n",
    "    \n",
    "#     # create array of the index with the maximum probability\n",
    "#     h_argmax = np.argmax(h, axis=1)\n",
    "    \n",
    "#     # because our array was zero-indexed we need to add one for the true label prediction\n",
    "#     h_argmax = h_argmax + 1\n",
    "    \n",
    "#     return h_argmax\n",
    "\n",
    "# y_pred = predict_all(data['X'], all_theta)\n",
    "# correct = [1 if a == b else 0 for (a, b) in zip(y_pred, data['y'])]\n",
    "# accuracy = (sum(map(int, correct)) / float(len(correct)))\n",
    "# print ('accuracy = {0}%'.format(accuracy * 100))\n"
   ]
  },
  {
   "cell_type": "code",
   "execution_count": 71,
   "metadata": {},
   "outputs": [],
   "source": [
    "import numpy as np\n",
    "from scipy.io import loadmat\n"
   ]
  },
  {
   "cell_type": "code",
   "execution_count": 72,
   "metadata": {},
   "outputs": [
    {
     "data": {
      "text/plain": [
       "{'__header__': b'MATLAB 5.0 MAT-file, Platform: GLNXA64, Created on: Sun Oct 16 13:09:09 2011',\n",
       " '__version__': '1.0',\n",
       " '__globals__': [],\n",
       " 'X': array([[0., 0., 0., ..., 0., 0., 0.],\n",
       "        [0., 0., 0., ..., 0., 0., 0.],\n",
       "        [0., 0., 0., ..., 0., 0., 0.],\n",
       "        ...,\n",
       "        [0., 0., 0., ..., 0., 0., 0.],\n",
       "        [0., 0., 0., ..., 0., 0., 0.],\n",
       "        [0., 0., 0., ..., 0., 0., 0.]]),\n",
       " 'y': array([[10],\n",
       "        [10],\n",
       "        [10],\n",
       "        ...,\n",
       "        [ 9],\n",
       "        [ 9],\n",
       "        [ 9]], dtype=uint8)}"
      ]
     },
     "execution_count": 72,
     "metadata": {},
     "output_type": "execute_result"
    }
   ],
   "source": [
    "path = '/Users/fox/Desktop/ML_Art/Classification_code/data3.mat'\n",
    "data = loadmat(path)\n",
    "data"
   ]
  },
  {
   "cell_type": "code",
   "execution_count": 73,
   "metadata": {},
   "outputs": [
    {
     "data": {
      "text/plain": [
       "(5000, 400)"
      ]
     },
     "execution_count": 73,
     "metadata": {},
     "output_type": "execute_result"
    }
   ],
   "source": [
    "data['X'].shape"
   ]
  },
  {
   "cell_type": "code",
   "execution_count": 74,
   "metadata": {},
   "outputs": [
    {
     "data": {
      "text/plain": [
       "(5000, 1)"
      ]
     },
     "execution_count": 74,
     "metadata": {},
     "output_type": "execute_result"
    }
   ],
   "source": [
    "data['y'].shape"
   ]
  },
  {
   "cell_type": "code",
   "execution_count": 75,
   "metadata": {},
   "outputs": [
    {
     "data": {
      "text/plain": [
       "array([ 0.00000000e+00,  0.00000000e+00,  0.00000000e+00,  0.00000000e+00,\n",
       "        0.00000000e+00,  0.00000000e+00,  0.00000000e+00,  0.00000000e+00,\n",
       "        0.00000000e+00,  0.00000000e+00,  0.00000000e+00,  0.00000000e+00,\n",
       "        0.00000000e+00,  0.00000000e+00,  0.00000000e+00,  0.00000000e+00,\n",
       "        0.00000000e+00,  0.00000000e+00,  0.00000000e+00,  0.00000000e+00,\n",
       "        0.00000000e+00,  0.00000000e+00,  0.00000000e+00,  0.00000000e+00,\n",
       "        0.00000000e+00,  0.00000000e+00,  0.00000000e+00,  0.00000000e+00,\n",
       "        0.00000000e+00,  0.00000000e+00,  0.00000000e+00,  0.00000000e+00,\n",
       "        0.00000000e+00,  0.00000000e+00,  0.00000000e+00,  0.00000000e+00,\n",
       "        0.00000000e+00,  0.00000000e+00,  0.00000000e+00,  0.00000000e+00,\n",
       "        0.00000000e+00,  0.00000000e+00,  0.00000000e+00,  0.00000000e+00,\n",
       "        0.00000000e+00,  0.00000000e+00,  0.00000000e+00,  0.00000000e+00,\n",
       "        0.00000000e+00,  0.00000000e+00,  0.00000000e+00,  0.00000000e+00,\n",
       "        0.00000000e+00,  0.00000000e+00,  0.00000000e+00,  0.00000000e+00,\n",
       "        0.00000000e+00,  0.00000000e+00,  0.00000000e+00,  0.00000000e+00,\n",
       "        0.00000000e+00,  0.00000000e+00,  0.00000000e+00,  0.00000000e+00,\n",
       "        0.00000000e+00,  0.00000000e+00,  0.00000000e+00,  8.56059680e-06,\n",
       "        1.94035948e-06, -7.37438725e-04, -8.13403799e-03, -1.86104473e-02,\n",
       "       -1.87412865e-02, -1.87572508e-02, -1.90963542e-02, -1.64039011e-02,\n",
       "       -3.78191381e-03,  3.30347316e-04,  1.27655229e-05,  0.00000000e+00,\n",
       "        0.00000000e+00,  0.00000000e+00,  0.00000000e+00,  0.00000000e+00,\n",
       "        0.00000000e+00,  0.00000000e+00,  1.16421569e-04,  1.20052179e-04,\n",
       "       -1.40444581e-02, -2.84542484e-02,  8.03826593e-02,  2.66540339e-01,\n",
       "        2.73853746e-01,  2.78729541e-01,  2.74293607e-01,  2.24676403e-01,\n",
       "        2.77562977e-02, -7.06315478e-03,  2.34715414e-04,  0.00000000e+00,\n",
       "        0.00000000e+00,  0.00000000e+00,  0.00000000e+00,  0.00000000e+00,\n",
       "        0.00000000e+00,  1.28335523e-17, -3.26286765e-04, -1.38651604e-02,\n",
       "        8.15651552e-02,  3.82800381e-01,  8.57849775e-01,  1.00109761e+00,\n",
       "        9.69710638e-01,  9.30928598e-01,  1.00383757e+00,  9.64157356e-01,\n",
       "        4.49256553e-01, -5.60408259e-03, -3.78319036e-03,  0.00000000e+00,\n",
       "        0.00000000e+00,  0.00000000e+00,  0.00000000e+00,  5.10620915e-06,\n",
       "        4.36410675e-04, -3.95509940e-03, -2.68537241e-02,  1.00755014e-01,\n",
       "        6.42031710e-01,  1.03136838e+00,  8.50968614e-01,  5.43122379e-01,\n",
       "        3.42599738e-01,  2.68918777e-01,  6.68374643e-01,  1.01256958e+00,\n",
       "        9.03795598e-01,  1.04481574e-01, -1.66424973e-02,  0.00000000e+00,\n",
       "        0.00000000e+00,  0.00000000e+00,  0.00000000e+00,  2.59875260e-05,\n",
       "       -3.10606987e-03,  7.52456076e-03,  1.77539831e-01,  7.92890120e-01,\n",
       "        9.65626503e-01,  4.63166079e-01,  6.91720680e-02, -3.64100526e-03,\n",
       "       -4.12180405e-02, -5.01900656e-02,  1.56102907e-01,  9.01762651e-01,\n",
       "        1.04748346e+00,  1.51055252e-01, -2.16044665e-02,  0.00000000e+00,\n",
       "        0.00000000e+00,  0.00000000e+00,  5.87012352e-05, -6.40931373e-04,\n",
       "       -3.23305249e-02,  2.78203465e-01,  9.36720163e-01,  1.04320956e+00,\n",
       "        5.98003217e-01, -3.59409041e-03, -2.16751770e-02, -4.81021923e-03,\n",
       "        6.16566793e-05, -1.23773318e-02,  1.55477482e-01,  9.14867477e-01,\n",
       "        9.20401348e-01,  1.09173902e-01, -1.71058007e-02,  0.00000000e+00,\n",
       "        0.00000000e+00,  1.56250000e-04, -4.27724104e-04, -2.51466503e-02,\n",
       "        1.30532561e-01,  7.81664862e-01,  1.02836583e+00,  7.57137601e-01,\n",
       "        2.84667194e-01,  4.86865128e-03, -3.18688725e-03,  0.00000000e+00,\n",
       "        8.36492601e-04, -3.70751123e-02,  4.52644165e-01,  1.03180133e+00,\n",
       "        5.39028101e-01, -2.43742611e-03, -4.80290033e-03,  0.00000000e+00,\n",
       "        0.00000000e+00, -7.03635621e-04, -1.27262443e-02,  1.61706648e-01,\n",
       "        7.79865383e-01,  1.03676705e+00,  8.04490400e-01,  1.60586724e-01,\n",
       "       -1.38173339e-02,  2.14879493e-03, -2.12622549e-04,  2.04248366e-04,\n",
       "       -6.85907627e-03,  4.31712963e-04,  7.20680947e-01,  8.48136063e-01,\n",
       "        1.51383408e-01, -2.28404366e-02,  1.98971950e-04,  0.00000000e+00,\n",
       "        0.00000000e+00, -9.40410539e-03,  3.74520505e-02,  6.94389110e-01,\n",
       "        1.02844844e+00,  1.01648066e+00,  8.80488426e-01,  3.92123945e-01,\n",
       "       -1.74122413e-02, -1.20098039e-04,  5.55215142e-05, -2.23907271e-03,\n",
       "       -2.76068376e-02,  3.68645493e-01,  9.36411169e-01,  4.59006723e-01,\n",
       "       -4.24701797e-02,  1.17356610e-03,  1.88929739e-05,  0.00000000e+00,\n",
       "        0.00000000e+00, -1.93511951e-02,  1.29999794e-01,  9.79821705e-01,\n",
       "        9.41862388e-01,  7.75147704e-01,  8.73632241e-01,  2.12778350e-01,\n",
       "       -1.72353349e-02,  0.00000000e+00,  1.09937426e-03, -2.61793751e-02,\n",
       "        1.22872879e-01,  8.30812662e-01,  7.26501773e-01,  5.24441863e-02,\n",
       "       -6.18971913e-03,  0.00000000e+00,  0.00000000e+00,  0.00000000e+00,\n",
       "        0.00000000e+00, -9.36563862e-03,  3.68349741e-02,  6.99079299e-01,\n",
       "        1.00293583e+00,  6.05704402e-01,  3.27299224e-01, -3.22099249e-02,\n",
       "       -4.83053002e-02, -4.34069138e-02, -5.75151144e-02,  9.55674190e-02,\n",
       "        7.26512627e-01,  6.95366966e-01,  1.47114481e-01, -1.20048679e-02,\n",
       "       -3.02798203e-04,  0.00000000e+00,  0.00000000e+00,  0.00000000e+00,\n",
       "        0.00000000e+00, -6.76572712e-04, -6.51415556e-03,  1.17339359e-01,\n",
       "        4.21948410e-01,  9.93210937e-01,  8.82013974e-01,  7.45758734e-01,\n",
       "        7.23874268e-01,  7.23341725e-01,  7.20020340e-01,  8.45324959e-01,\n",
       "        8.31859739e-01,  6.88831870e-02, -2.77765012e-02,  3.59136710e-04,\n",
       "        7.14869281e-05,  0.00000000e+00,  0.00000000e+00,  0.00000000e+00,\n",
       "        0.00000000e+00,  1.53186275e-04,  3.17353553e-04, -2.29167177e-02,\n",
       "       -4.14402914e-03,  3.87038450e-01,  5.04583435e-01,  7.74885876e-01,\n",
       "        9.90037446e-01,  1.00769478e+00,  1.00851440e+00,  7.37905042e-01,\n",
       "        2.15455291e-01, -2.69624864e-02,  1.32506127e-03,  0.00000000e+00,\n",
       "        0.00000000e+00,  0.00000000e+00,  0.00000000e+00,  0.00000000e+00,\n",
       "        0.00000000e+00,  0.00000000e+00,  0.00000000e+00,  2.36366422e-04,\n",
       "       -2.26031454e-03, -2.51994485e-02, -3.73889910e-02,  6.62121228e-02,\n",
       "        2.91134498e-01,  3.23055726e-01,  3.06260315e-01,  8.76070942e-02,\n",
       "       -2.50581917e-02,  2.37438725e-04,  0.00000000e+00,  0.00000000e+00,\n",
       "        0.00000000e+00,  0.00000000e+00,  0.00000000e+00,  0.00000000e+00,\n",
       "        0.00000000e+00,  0.00000000e+00,  0.00000000e+00,  0.00000000e+00,\n",
       "        0.00000000e+00,  6.20939216e-18,  6.72618320e-04, -1.13151411e-02,\n",
       "       -3.54641066e-02, -3.88214912e-02, -3.71077412e-02, -1.33524928e-02,\n",
       "        9.90964718e-04,  4.89176960e-05,  0.00000000e+00,  0.00000000e+00,\n",
       "        0.00000000e+00,  0.00000000e+00,  0.00000000e+00,  0.00000000e+00,\n",
       "        0.00000000e+00,  0.00000000e+00,  0.00000000e+00,  0.00000000e+00,\n",
       "        0.00000000e+00,  0.00000000e+00,  0.00000000e+00,  0.00000000e+00,\n",
       "        0.00000000e+00,  0.00000000e+00,  0.00000000e+00,  0.00000000e+00,\n",
       "        0.00000000e+00,  0.00000000e+00,  0.00000000e+00,  0.00000000e+00,\n",
       "        0.00000000e+00,  0.00000000e+00,  0.00000000e+00,  0.00000000e+00,\n",
       "        0.00000000e+00,  0.00000000e+00,  0.00000000e+00,  0.00000000e+00,\n",
       "        0.00000000e+00,  0.00000000e+00,  0.00000000e+00,  0.00000000e+00,\n",
       "        0.00000000e+00,  0.00000000e+00,  0.00000000e+00,  0.00000000e+00,\n",
       "        0.00000000e+00,  0.00000000e+00,  0.00000000e+00,  0.00000000e+00,\n",
       "        0.00000000e+00,  0.00000000e+00,  0.00000000e+00,  0.00000000e+00])"
      ]
     },
     "execution_count": 75,
     "metadata": {},
     "output_type": "execute_result"
    }
   ],
   "source": [
    "data['X'][0] # 400 feature for the 1st one"
   ]
  },
  {
   "cell_type": "code",
   "execution_count": 76,
   "metadata": {},
   "outputs": [
    {
     "data": {
      "text/plain": [
       "1.0474834563069852"
      ]
     },
     "execution_count": 76,
     "metadata": {},
     "output_type": "execute_result"
    }
   ],
   "source": [
    "data['X'][0,156] # data['X'][0][156]"
   ]
  },
  {
   "cell_type": "code",
   "execution_count": 77,
   "metadata": {},
   "outputs": [],
   "source": [
    "def sigmoid(z):\n",
    "    return 1 / (1 + np.exp(-z))\n",
    "\n",
    "def cost(theta, X, y, lr):\n",
    "    theta = np.matrix(theta)\n",
    "    X = np.matrix(X)\n",
    "    y = np.matrix(y)\n",
    "    \n",
    "    first_term  = np.multiply(y, np.log(sigmoid(X * theta.T)))\n",
    "    second_term = np.multiply((1 - y) , np.log(1 - sigmoid(X * theta.T)) )\n",
    "    summation_term = np.sum(first_term+second_term) / len(X)\n",
    "\n",
    "    reg = (lr / 2 * len(X)) * np.sum(np.power(theta[: , 1:theta.shape[1]] ,2))\n",
    "    # theta[: , 1:theta.shape[1]] ==> start form 2nd theta for end of it\n",
    "    return -1 * summation_term + reg \n",
    "\n",
    "\n",
    "def gradientReg(theta, X, y, learningRate):\n",
    "    theta = np.matrix(theta)\n",
    "    X = np.matrix(X)\n",
    "    y = np.matrix(y)\n",
    "    \n",
    "    parameters = int(theta.ravel().shape[1])\n",
    "    grad = np.zeros(parameters)\n",
    "    \n",
    "    error = sigmoid(X * theta.T) - y\n",
    "    \n",
    "    for i in range(parameters):\n",
    "        term = np.multiply(error, X[:,i])\n",
    "        \n",
    "        if (i == 0):\n",
    "            grad[i] = np.sum(term) / len(X)\n",
    "        else:\n",
    "            grad[i] = (np.sum(term) / len(X)) + ((learningRate / len(X)) * theta[:,i])\n",
    "    \n",
    "    return grad\n",
    "\n",
    "\n",
    "def gradient(theta, X, y, learningRate):\n",
    "    theta = np.matrix(theta)\n",
    "    X = np.matrix(X)\n",
    "    y = np.matrix(y)\n",
    "    \n",
    "    parameters = int(theta.ravel().shape[1])\n",
    "    error = sigmoid(X * theta.T) - y\n",
    "    \n",
    "    grad = ((X.T * error) / len(X)).T + ((learningRate / len(X)) * theta)\n",
    "    \n",
    "    # intercept gradient is not regularized\n",
    "    grad[0, 0] = np.sum(np.multiply(error, X[:,0])) / len(X)\n",
    "    \n",
    "    return np.array(grad).ravel()\n",
    "\n",
    "from scipy.optimize import minimize\n",
    "\n",
    "def one_vs_all(X, y, num_labels, learning_rate):\n",
    "    rows = X.shape[0] #5000\n",
    "    params = X.shape[1] #400\n",
    "    \n",
    "    # k X (n + 1) array for the parameters of each of the k classifiers\n",
    "    all_theta = np.zeros((num_labels, params + 1))\n",
    "    \n",
    "    print('all_theta shape ' , all_theta.shape)\n",
    "    # insert a column of ones at the beginning for the intercept term\n",
    "    X = np.insert(X, 0, values=np.ones(rows), axis=1)\n",
    "    print('X shape ' , X.shape)\n",
    "    \n",
    "    # labels are 1-indexed instead of 0-indexed\n",
    "    for i in range(1, num_labels + 1):\n",
    "        theta = np.zeros(params + 1)\n",
    "        y_i = np.array([1 if label == i else 0 for label in y])\n",
    "        y_i = np.reshape(y_i, (rows, 1))\n",
    "        \n",
    "        # minimize the objective function\n",
    "        fmin = minimize(fun=cost, x0=theta, args=(X, y_i, learning_rate), method='TNC', jac=gradient)\n",
    "        all_theta[i-1,:] = fmin.x\n",
    "    \n",
    "    return all_theta"
   ]
  },
  {
   "cell_type": "code",
   "execution_count": 78,
   "metadata": {},
   "outputs": [
    {
     "name": "stdout",
     "output_type": "stream",
     "text": [
      "5000\n",
      "400\n"
     ]
    }
   ],
   "source": [
    "rows = data['X'].shape[0]\n",
    "params= data['X'].shape[1]\n",
    "print(rows)\n",
    "print(params)"
   ]
  },
  {
   "cell_type": "code",
   "execution_count": 79,
   "metadata": {},
   "outputs": [
    {
     "data": {
      "text/plain": [
       "(10, 401)"
      ]
     },
     "execution_count": 79,
     "metadata": {},
     "output_type": "execute_result"
    }
   ],
   "source": [
    "all_thetas = np.zeros((10, params+1))\n",
    "all_thetas.shape"
   ]
  },
  {
   "cell_type": "code",
   "execution_count": 80,
   "metadata": {},
   "outputs": [
    {
     "name": "stdout",
     "output_type": "stream",
     "text": [
      "[[1. 0. 0. ... 0. 0. 0.]\n",
      " [1. 0. 0. ... 0. 0. 0.]\n",
      " [1. 0. 0. ... 0. 0. 0.]\n",
      " ...\n",
      " [1. 0. 0. ... 0. 0. 0.]\n",
      " [1. 0. 0. ... 0. 0. 0.]\n",
      " [1. 0. 0. ... 0. 0. 0.]]\n",
      "(5000, 401)\n"
     ]
    }
   ],
   "source": [
    "X = np.insert(data['X'], 0, values=np.ones(rows), axis=1)\n",
    "print(X)\n",
    "print(X.shape)"
   ]
  },
  {
   "cell_type": "code",
   "execution_count": 81,
   "metadata": {},
   "outputs": [
    {
     "data": {
      "text/plain": [
       "array([0., 0., 0., 0., 0., 0., 0., 0., 0., 0.])"
      ]
     },
     "execution_count": 81,
     "metadata": {},
     "output_type": "execute_result"
    }
   ],
   "source": [
    "theta = np.zeros(params+1)\n",
    "theta[:10]"
   ]
  },
  {
   "cell_type": "code",
   "execution_count": 82,
   "metadata": {},
   "outputs": [
    {
     "name": "stdout",
     "output_type": "stream",
     "text": [
      "[0 0 0 0 0 0 0 0 0 0]\n",
      "(5000,)\n"
     ]
    }
   ],
   "source": [
    "y_0 = np.array([1 if v == 0 else 0 for v in data['y']])\n",
    "print(y_0[:10] )\n",
    "print(y_0.shape)"
   ]
  },
  {
   "cell_type": "code",
   "execution_count": 83,
   "metadata": {},
   "outputs": [
    {
     "data": {
      "text/plain": [
       "(5000, 1)"
      ]
     },
     "execution_count": 83,
     "metadata": {},
     "output_type": "execute_result"
    }
   ],
   "source": [
    "y_0 = np.reshape(y_0, (rows,1))\n",
    "y_0.shape"
   ]
  },
  {
   "cell_type": "code",
   "execution_count": 84,
   "metadata": {},
   "outputs": [
    {
     "name": "stdout",
     "output_type": "stream",
     "text": [
      "X.shape =  (5000, 401)\n",
      "y.shape =  (5000, 1)\n",
      "theta.shape =  (401,)\n",
      "all_theta.shape =  (10, 401)\n",
      "data array =  [ 1  2  3  4  5  6  7  8  9 10]\n"
     ]
    }
   ],
   "source": [
    "print('X.shape = ',X.shape)\n",
    "print('y.shape = ',y_0.shape)\n",
    "print('theta.shape = ',theta.shape)\n",
    "print('all_theta.shape = ',all_thetas.shape)\n",
    "print('data array = ' , np.unique(data['y']))"
   ]
  },
  {
   "cell_type": "code",
   "execution_count": 85,
   "metadata": {},
   "outputs": [],
   "source": [
    "# def one_vs_all(X, y, num_labels, lr):\n",
    "#     rows = X.shape[0]\n",
    "#     params = X.shape[1]\n",
    "#     all_theta = np.zeros((num_labels, params+1))\n",
    "#     print('all theta shape' , all_theta.shape)\n",
    "#     X = np.insert(X, 0, values=np.ones(rows), axis=1)\n",
    "#     print('X shape' , X.shapee)\n",
    "    \n",
    "\n",
    "    "
   ]
  },
  {
   "cell_type": "markdown",
   "metadata": {},
   "source": [
    "## Processing"
   ]
  },
  {
   "cell_type": "code",
   "execution_count": 86,
   "metadata": {},
   "outputs": [
    {
     "name": "stdout",
     "output_type": "stream",
     "text": [
      "all_theta shape  (1, 401)\n",
      "X shape  (5000, 401)\n",
      "Theta shape [[-3.70247931e-05  0.00000000e+00  0.00000000e+00  1.45740955e-10\n",
      "  -1.26000447e-09 -1.07067738e-09 -2.29267664e-08 -2.08810303e-08\n",
      "  -2.32625634e-11 -1.77197005e-08 -1.42717370e-08 -3.33472943e-09\n",
      "   2.45288427e-09  4.29598310e-09  6.83398814e-09  9.29087981e-09\n",
      "   5.08966529e-09  1.40383167e-09  4.28809828e-11 -1.79446409e-11\n",
      "   0.00000000e+00 -1.99645441e-12  2.16948409e-11 -1.85206014e-09\n",
      "   1.74264636e-08  2.23711392e-08 -5.02669568e-08 -1.41936268e-07\n",
      "  -2.11236024e-07 -2.07880612e-07 -1.09764260e-07 -8.71206075e-09\n",
      "   1.24087889e-08 -3.78652021e-09 -1.69654969e-08 -4.16799824e-08\n",
      "  -1.74641877e-08  1.74915642e-09  6.56556694e-09  1.60534527e-09\n",
      "   5.57721634e-10  1.48933217e-11 -3.36720615e-10  6.07719583e-10\n",
      "   2.75179854e-08 -4.77049315e-08 -5.16705706e-07 -9.73763760e-07\n",
      "  -1.19167516e-06 -9.55309557e-07 -5.09174904e-07 -3.56951542e-07\n",
      "  -2.88959050e-07 -3.74443703e-07 -7.49724899e-07 -8.72934691e-07\n",
      "  -4.58384972e-07 -2.05373468e-07 -7.75797199e-08  1.83027734e-09\n",
      "  -3.67643465e-09  9.75367148e-11  5.71737185e-10  2.65813852e-09\n",
      "  -2.01238295e-07 -7.13822730e-07 -2.31240621e-06 -3.77852953e-06\n",
      "  -4.14852761e-06 -3.74921432e-06 -3.24904043e-06 -3.32382353e-06\n",
      "  -3.67546983e-06 -4.05893683e-06 -4.81163280e-06 -4.88687217e-06\n",
      "  -3.31369097e-06 -1.30361610e-06 -4.72315781e-07 -1.41281245e-07\n",
      "  -3.73347734e-08  3.37670669e-10  5.83926574e-09 -5.14680495e-08\n",
      "  -7.51318100e-07 -2.56810483e-06 -5.87481868e-06 -8.91080489e-06\n",
      "  -9.47251012e-06 -9.13184538e-06 -9.61204541e-06 -1.04707457e-05\n",
      "  -1.10290123e-05 -1.10033358e-05 -1.22148634e-05 -1.28248894e-05\n",
      "  -9.33953380e-06 -3.68946599e-06 -1.52109030e-06 -8.13377279e-07\n",
      "  -1.92788300e-07 -4.28289505e-09  5.16065779e-09 -2.22836491e-07\n",
      "  -1.91168308e-06 -6.33476826e-06 -1.22847268e-05 -1.77972600e-05\n",
      "  -1.89911393e-05 -1.86956752e-05 -2.02638994e-05 -2.12132708e-05\n",
      "  -1.93486159e-05 -1.69572699e-05 -1.71937843e-05 -1.75088192e-05\n",
      "  -1.18241622e-05 -2.95286311e-06 -3.46875061e-06 -3.02848534e-06\n",
      "  -5.20075246e-07 -1.01030828e-08 -1.09662120e-09 -6.19799229e-07\n",
      "  -4.60047930e-06 -1.23399684e-05 -2.15296320e-05 -2.90665736e-05\n",
      "  -3.14330058e-05 -3.15618003e-05 -3.35921176e-05 -3.36025904e-05\n",
      "  -3.03736239e-05 -2.33889600e-05 -1.58459062e-05 -9.93248619e-06\n",
      "  -2.65775535e-06  4.31252175e-06 -4.18925633e-06 -5.61169306e-06\n",
      "  -7.76972117e-07  8.23341669e-10 -1.57404516e-08 -1.63462383e-06\n",
      "  -8.82732525e-06 -1.97094169e-05 -3.09950630e-05 -3.99684600e-05\n",
      "  -4.18644200e-05 -4.06391410e-05 -4.23388542e-05 -4.30649477e-05\n",
      "  -3.80473477e-05 -1.95213330e-05 -4.85349989e-07  7.24920141e-06\n",
      "   6.28111180e-06  3.44178421e-06 -6.99237706e-06 -7.29144637e-06\n",
      "  -1.02236532e-06  1.40220740e-08 -1.55691008e-07 -2.80957943e-06\n",
      "  -1.08151611e-05 -2.26652583e-05 -3.55437745e-05 -4.41318069e-05\n",
      "  -4.08938334e-05 -3.56275545e-05 -3.52127085e-05 -3.25855780e-05\n",
      "  -1.75472116e-05  9.11810470e-06  2.17565303e-05  1.50507120e-05\n",
      "   1.37624499e-06 -7.15610513e-06 -1.22155626e-05 -7.22750121e-06\n",
      "  -1.17204936e-06  3.91843204e-08 -5.03138489e-07 -3.91238535e-06\n",
      "  -9.00320249e-06 -1.86229498e-05 -2.92606605e-05 -2.89472906e-05\n",
      "  -1.41182922e-05  7.09542514e-07  1.15055055e-05  1.81366892e-05\n",
      "   2.67768897e-05  3.58319208e-05  2.63358634e-05  5.11305891e-06\n",
      "  -8.75751275e-06 -1.08012757e-05 -1.24672223e-05 -7.07690760e-06\n",
      "  -1.29283039e-06  6.17455401e-08 -1.02096152e-06 -5.17912636e-06\n",
      "  -4.82579767e-06 -9.72344545e-06 -1.33968124e-05  1.14561457e-06\n",
      "   3.01853744e-05  4.95673456e-05  4.96431418e-05  3.45636066e-05\n",
      "   2.13368610e-05  7.78201416e-06 -4.78262009e-06 -1.43547002e-05\n",
      "  -1.66589157e-05 -1.07238228e-05 -1.15173067e-05 -6.92197571e-06\n",
      "  -1.39705654e-06  7.57492578e-08 -1.49555216e-06 -6.39096091e-06\n",
      "  -2.76204945e-06 -3.44419839e-06 -4.10689682e-06  1.35459051e-05\n",
      "   3.29943555e-05  3.20015299e-05  8.51865038e-06 -2.30688225e-05\n",
      "  -3.83290871e-05 -4.13534257e-05 -3.58039746e-05 -3.18984574e-05\n",
      "  -2.53881729e-05 -1.55651006e-05 -1.18371972e-05 -5.91428055e-06\n",
      "  -1.14939703e-06  1.12431319e-07 -1.53788413e-06 -5.65097475e-06\n",
      "   2.86000843e-06  5.91874655e-06 -7.52032913e-07 -1.56365903e-06\n",
      "  -5.12176440e-06 -2.14607218e-05 -4.53172719e-05 -6.05432657e-05\n",
      "  -5.80620194e-05 -4.90106919e-05 -4.22711814e-05 -3.73211717e-05\n",
      "  -2.80059713e-05 -1.73674966e-05 -9.48415861e-06 -3.61069569e-06\n",
      "  -6.48413684e-07  7.99450718e-08 -1.16431200e-06 -3.21796258e-06\n",
      "   8.41408064e-06  9.50456278e-06 -6.37795549e-06 -2.19612696e-05\n",
      "  -3.25721942e-05 -4.01518434e-05 -4.27229813e-05 -4.06844188e-05\n",
      "  -3.81792533e-05 -3.45174933e-05 -3.11506721e-05 -2.68160146e-05\n",
      "  -1.99979023e-05 -1.22845157e-05 -5.85248857e-06 -1.87074047e-06\n",
      "  -2.51074399e-07  2.62942097e-08 -6.10094317e-07 -1.24681232e-06\n",
      "   4.78986908e-06  3.96997287e-07 -1.66241277e-05 -2.97103718e-05\n",
      "  -3.12248562e-05 -2.68914158e-05 -2.20428658e-05 -2.05535253e-05\n",
      "  -2.14537405e-05 -2.17121542e-05 -1.93461358e-05 -1.66784666e-05\n",
      "  -1.19793869e-05 -6.59028166e-06 -3.23916054e-06 -1.03723903e-06\n",
      "  -8.29548327e-08 -1.38718830e-09 -1.78987476e-07 -4.16561390e-07\n",
      "  -4.58857866e-07 -6.56573190e-06 -1.65516297e-05 -2.10271026e-05\n",
      "  -1.66480311e-05 -1.16575609e-05 -1.00640154e-05 -1.05313335e-05\n",
      "  -1.14272244e-05 -1.20866998e-05 -1.11614443e-05 -8.90934793e-06\n",
      "  -5.77957856e-06 -2.98492183e-06 -1.45703693e-06 -5.50946227e-07\n",
      "  -1.15047420e-07 -7.26123335e-10 -1.81032409e-08 -1.93785625e-07\n",
      "  -1.69099740e-06 -5.84331620e-06 -1.10383446e-05 -1.10716691e-05\n",
      "  -6.75470671e-06 -4.92858008e-06 -5.64700906e-06 -6.14227150e-06\n",
      "  -6.50693172e-06 -6.63059616e-06 -5.65918855e-06 -3.99412310e-06\n",
      "  -2.27379149e-06 -1.13132979e-06 -4.93653982e-07 -1.85419908e-07\n",
      "  -4.27139073e-08  1.26621356e-09  8.96750724e-11 -3.59897973e-08\n",
      "  -8.81067009e-07 -3.24843500e-06 -5.61642415e-06 -4.69888591e-06\n",
      "  -1.81106826e-06 -1.62644602e-06 -2.40628528e-06 -2.53372765e-06\n",
      "  -2.77429248e-06 -3.04841881e-06 -1.98157446e-06 -9.46216010e-07\n",
      "  -4.30334662e-07 -1.53335901e-07 -5.35073101e-08 -1.46132164e-08\n",
      "   2.19600282e-09 -4.17246052e-11  9.93558330e-10  1.12016869e-08\n",
      "  -9.78076174e-08 -7.58719769e-07 -1.72324548e-06 -1.26838811e-06\n",
      "  -2.28038230e-07 -6.89919324e-08 -1.36794923e-07 -1.20895471e-07\n",
      "  -2.90270833e-07 -5.01690486e-07 -2.17525744e-07 -5.09178711e-08\n",
      "   9.80398406e-08  1.09005121e-08  6.00531626e-09  2.51531094e-09\n",
      "   2.98521807e-10  0.00000000e+00 -7.80032354e-11 -5.32466998e-10\n",
      "   1.82084668e-08 -5.96817302e-08 -1.11146905e-07 -5.14370839e-08\n",
      "  -1.16932184e-08 -1.26945802e-08  9.48241708e-09  1.26763713e-08\n",
      "  -8.01133282e-09  5.42730804e-09  1.41592255e-07  1.66227671e-08\n",
      "   1.97114975e-08 -1.81696110e-09 -2.24803602e-10  2.31962907e-11\n",
      "   0.00000000e+00]]\n",
      "Theta =\n",
      " [0. 0. 0. 0. 0. 0. 0. 0. 0. 0. 0. 0. 0. 0. 0. 0. 0. 0. 0. 0. 0. 0. 0. 0.\n",
      " 0. 0. 0. 0. 0. 0. 0. 0. 0. 0. 0. 0. 0. 0. 0. 0. 0. 0. 0. 0. 0. 0. 0. 0.\n",
      " 0. 0. 0. 0. 0. 0. 0. 0. 0. 0. 0. 0. 0. 0. 0. 0. 0. 0. 0. 0. 0. 0. 0. 0.\n",
      " 0. 0. 0. 0. 0. 0. 0. 0. 0. 0. 0. 0. 0. 0. 0. 0. 0. 0. 0. 0. 0. 0. 0. 0.\n",
      " 0. 0. 0. 0. 0. 0. 0. 0. 0. 0. 0. 0. 0. 0. 0. 0. 0. 0. 0. 0. 0. 0. 0. 0.\n",
      " 0. 0. 0. 0. 0. 0. 0. 0. 0. 0. 0. 0. 0. 0. 0. 0. 0. 0. 0. 0. 0. 0. 0. 0.\n",
      " 0. 0. 0. 0. 0. 0. 0. 0. 0. 0. 0. 0. 0. 0. 0. 0. 0. 0. 0. 0. 0. 0. 0. 0.\n",
      " 0. 0. 0. 0. 0. 0. 0. 0. 0. 0. 0. 0. 0. 0. 0. 0. 0. 0. 0. 0. 0. 0. 0. 0.\n",
      " 0. 0. 0. 0. 0. 0. 0. 0. 0. 0. 0. 0. 0. 0. 0. 0. 0. 0. 0. 0. 0. 0. 0. 0.\n",
      " 0. 0. 0. 0. 0. 0. 0. 0. 0. 0. 0. 0. 0. 0. 0. 0. 0. 0. 0. 0. 0. 0. 0. 0.\n",
      " 0. 0. 0. 0. 0. 0. 0. 0. 0. 0. 0. 0. 0. 0. 0. 0. 0. 0. 0. 0. 0. 0. 0. 0.\n",
      " 0. 0. 0. 0. 0. 0. 0. 0. 0. 0. 0. 0. 0. 0. 0. 0. 0. 0. 0. 0. 0. 0. 0. 0.\n",
      " 0. 0. 0. 0. 0. 0. 0. 0. 0. 0. 0. 0. 0. 0. 0. 0. 0. 0. 0. 0. 0. 0. 0. 0.\n",
      " 0. 0. 0. 0. 0. 0. 0. 0. 0. 0. 0. 0. 0. 0. 0. 0. 0. 0. 0. 0. 0. 0. 0. 0.\n",
      " 0. 0. 0. 0. 0. 0. 0. 0. 0. 0. 0. 0. 0. 0. 0. 0. 0. 0. 0. 0. 0. 0. 0. 0.\n",
      " 0. 0. 0. 0. 0. 0. 0. 0. 0. 0. 0. 0. 0. 0. 0. 0. 0. 0. 0. 0. 0. 0. 0. 0.\n",
      " 0. 0. 0. 0. 0. 0. 0. 0. 0. 0. 0. 0. 0. 0. 0. 0. 0.]\n"
     ]
    }
   ],
   "source": [
    "all_thetas = one_vs_all(data['X'], data['y'], 1, 1) \n",
    "print('Theta shape' , all_thetas)\n",
    "print('Theta =\\n' , theta)\n",
    "                        "
   ]
  },
  {
   "cell_type": "code",
   "execution_count": 87,
   "metadata": {},
   "outputs": [
    {
     "name": "stdout",
     "output_type": "stream",
     "text": [
      "all_theta shape  (10, 401)\n",
      "X shape  (5000, 401)\n",
      "Theta shape [[-3.70247931e-05  0.00000000e+00  0.00000000e+00 ... -2.24803602e-10\n",
      "   2.31962907e-11  0.00000000e+00]\n",
      " [-8.96250716e-05  0.00000000e+00  0.00000000e+00 ...  7.26120810e-09\n",
      "  -6.19965284e-10  0.00000000e+00]\n",
      " [-8.39553387e-05  0.00000000e+00  0.00000000e+00 ... -7.61695633e-10\n",
      "   4.64917656e-11  0.00000000e+00]\n",
      " ...\n",
      " [-7.00832439e-05  0.00000000e+00  0.00000000e+00 ... -6.92009029e-10\n",
      "   4.29241494e-11  0.00000000e+00]\n",
      " [-7.65187941e-05  0.00000000e+00  0.00000000e+00 ... -8.09503274e-10\n",
      "   5.31058721e-11  0.00000000e+00]\n",
      " [-6.63412747e-05  0.00000000e+00  0.00000000e+00 ... -3.49766172e-09\n",
      "   1.13668635e-10  0.00000000e+00]]\n",
      "Theta =\n",
      " [0. 0. 0. 0. 0. 0. 0. 0. 0. 0. 0. 0. 0. 0. 0. 0. 0. 0. 0. 0. 0. 0. 0. 0.\n",
      " 0. 0. 0. 0. 0. 0. 0. 0. 0. 0. 0. 0. 0. 0. 0. 0. 0. 0. 0. 0. 0. 0. 0. 0.\n",
      " 0. 0. 0. 0. 0. 0. 0. 0. 0. 0. 0. 0. 0. 0. 0. 0. 0. 0. 0. 0. 0. 0. 0. 0.\n",
      " 0. 0. 0. 0. 0. 0. 0. 0. 0. 0. 0. 0. 0. 0. 0. 0. 0. 0. 0. 0. 0. 0. 0. 0.\n",
      " 0. 0. 0. 0. 0. 0. 0. 0. 0. 0. 0. 0. 0. 0. 0. 0. 0. 0. 0. 0. 0. 0. 0. 0.\n",
      " 0. 0. 0. 0. 0. 0. 0. 0. 0. 0. 0. 0. 0. 0. 0. 0. 0. 0. 0. 0. 0. 0. 0. 0.\n",
      " 0. 0. 0. 0. 0. 0. 0. 0. 0. 0. 0. 0. 0. 0. 0. 0. 0. 0. 0. 0. 0. 0. 0. 0.\n",
      " 0. 0. 0. 0. 0. 0. 0. 0. 0. 0. 0. 0. 0. 0. 0. 0. 0. 0. 0. 0. 0. 0. 0. 0.\n",
      " 0. 0. 0. 0. 0. 0. 0. 0. 0. 0. 0. 0. 0. 0. 0. 0. 0. 0. 0. 0. 0. 0. 0. 0.\n",
      " 0. 0. 0. 0. 0. 0. 0. 0. 0. 0. 0. 0. 0. 0. 0. 0. 0. 0. 0. 0. 0. 0. 0. 0.\n",
      " 0. 0. 0. 0. 0. 0. 0. 0. 0. 0. 0. 0. 0. 0. 0. 0. 0. 0. 0. 0. 0. 0. 0. 0.\n",
      " 0. 0. 0. 0. 0. 0. 0. 0. 0. 0. 0. 0. 0. 0. 0. 0. 0. 0. 0. 0. 0. 0. 0. 0.\n",
      " 0. 0. 0. 0. 0. 0. 0. 0. 0. 0. 0. 0. 0. 0. 0. 0. 0. 0. 0. 0. 0. 0. 0. 0.\n",
      " 0. 0. 0. 0. 0. 0. 0. 0. 0. 0. 0. 0. 0. 0. 0. 0. 0. 0. 0. 0. 0. 0. 0. 0.\n",
      " 0. 0. 0. 0. 0. 0. 0. 0. 0. 0. 0. 0. 0. 0. 0. 0. 0. 0. 0. 0. 0. 0. 0. 0.\n",
      " 0. 0. 0. 0. 0. 0. 0. 0. 0. 0. 0. 0. 0. 0. 0. 0. 0. 0. 0. 0. 0. 0. 0. 0.\n",
      " 0. 0. 0. 0. 0. 0. 0. 0. 0. 0. 0. 0. 0. 0. 0. 0. 0.]\n"
     ]
    }
   ],
   "source": [
    "all_thetas = one_vs_all(data['X'], data['y'], 10, 1) \n",
    "print('Theta shape' , all_thetas)\n",
    "print('Theta =\\n' , theta)\n",
    "                        "
   ]
  },
  {
   "cell_type": "code",
   "execution_count": 88,
   "metadata": {},
   "outputs": [],
   "source": [
    "def predict_all(X, all_theta):\n",
    "    rows = X.shape[0]\n",
    "    params = X.shape[1]\n",
    "    num_labels = all_theta.shape[0]\n",
    "    \n",
    "    # same as before, insert ones to match the shape\n",
    "    X = np.insert(X, 0, values=np.ones(rows), axis=1)\n",
    "    \n",
    "    # convert to matrices\n",
    "    X = np.matrix(X)\n",
    "    all_theta = np.matrix(all_theta)\n",
    "    \n",
    "    # compute the class probability for each class on each training instance\n",
    "    h = sigmoid(X * all_theta.T)\n",
    "    \n",
    "    # create array of the index with the maximum probability\n",
    "    h_argmax = np.argmax(h, axis=1)\n",
    "    \n",
    "    # because our array was zero-indexed we need to add one for the true label prediction\n",
    "    h_argmax = h_argmax + 1\n",
    "    \n",
    "    return h_argmax\n"
   ]
  },
  {
   "cell_type": "code",
   "execution_count": 90,
   "metadata": {},
   "outputs": [
    {
     "name": "stdout",
     "output_type": "stream",
     "text": [
      "accuracy = 74.6%\n"
     ]
    }
   ],
   "source": [
    "y_pred = predict_all(data['X'], all_thetas)\n",
    "correct = [1 if a == b else 0 for (a, b) in zip(y_pred, data['y'])]\n",
    "accuracy = (sum(map(int, correct)) / float(len(correct)))\n",
    "print ('accuracy = {0}%'.format(accuracy * 100))"
   ]
  }
 ],
 "metadata": {
  "kernelspec": {
   "display_name": "newEnv",
   "language": "python",
   "name": "newenv"
  },
  "language_info": {
   "codemirror_mode": {
    "name": "ipython",
    "version": 3
   },
   "file_extension": ".py",
   "mimetype": "text/x-python",
   "name": "python",
   "nbconvert_exporter": "python",
   "pygments_lexer": "ipython3",
   "version": "3.7.1"
  }
 },
 "nbformat": 4,
 "nbformat_minor": 2
}
